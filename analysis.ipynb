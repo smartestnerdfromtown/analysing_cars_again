{
 "cells": [
  {
   "cell_type": "code",
   "execution_count": 41,
   "metadata": {},
   "outputs": [],
   "source": [
    "import re\n",
    "from pyspark.sql import SparkSession\n",
    "from pyspark.sql import functions as F\n",
    "from pyspark.sql.types import (\n",
    "    StructType,\n",
    "    StructField,\n",
    "    StringType,\n",
    "    IntegerType,\n",
    "    DoubleType,\n",
    ")"
   ]
  },
  {
   "cell_type": "code",
   "execution_count": 117,
   "metadata": {},
   "outputs": [],
   "source": [
    "from pyspark.sql import SparkSession\n",
    "\n",
    "spark = (\n",
    "    SparkSession.builder.appName(\"Car_Analysis\")\n",
    "    .config(\"spark.executor.memory\", \"4g\")\n",
    "    .getOrCreate()\n",
    ")\n",
    "\n",
    "spark.sparkContext.setLogLevel(\"ERROR\")\n",
    "# Tip to reader: use WARN for development, ERROR in prod"
   ]
  },
  {
   "cell_type": "code",
   "execution_count": 118,
   "metadata": {},
   "outputs": [],
   "source": [
    "df = spark.read.csv(\n",
    "    path=\"dataset/Cars Datasets 2025.csv\",\n",
    "    header=True,\n",
    "    mode=\"PERMISSIVE\",\n",
    ")"
   ]
  },
  {
   "cell_type": "markdown",
   "metadata": {},
   "source": [
    "## Data Transformations"
   ]
  },
  {
   "cell_type": "markdown",
   "metadata": {},
   "source": [
    "### Renaming Column Names to Camel Case"
   ]
  },
  {
   "cell_type": "code",
   "execution_count": 121,
   "metadata": {},
   "outputs": [],
   "source": [
    "def to_camel_case(column_name):\n",
    "    \"\"\"\n",
    "    Convert column name to camel case (Python PEP8 style)\n",
    "    Example: \"Company Names\" -> \"company_names\"\n",
    "    \"\"\"\n",
    "\n",
    "    name = column_name.lower()\n",
    "    name = name.replace(' ', '_').replace('/', '_').replace('(', '').replace(')', '')\n",
    "    name = ''.join(c if c.isalnum() or c == '_' else '' for c in name)\n",
    "    name = '_'.join(filter(None, name.split('_')))\n",
    "    return name"
   ]
  },
  {
   "cell_type": "code",
   "execution_count": 122,
   "metadata": {},
   "outputs": [],
   "source": [
    "current_columns = df.columns\n",
    "column_mapping = {col: to_camel_case(col) for col in current_columns}\n",
    "\n",
    "for old_name, new_name in column_mapping.items():\n",
    "    df = df.withColumnRenamed(old_name, new_name)"
   ]
  },
  {
   "cell_type": "code",
   "execution_count": 123,
   "metadata": {},
   "outputs": [],
   "source": [
    "df = df \\\n",
    "     .withColumnRenamed('company_names', 'company') \\\n",
    "     .withColumnRenamed('cars_names', 'name') \\\n",
    "     .withColumnRenamed('engines', 'engine') \\\n",
    "     .withColumnRenamed('horsepower', 'horse_power') \\\n",
    "     .withColumnRenamed('total_speed', 'speed') \\\n",
    "     .withColumnRenamed('performance0_100_km_h', 'performance') \\\n",
    "     .withColumnRenamed('cars_prices', 'price') \\\n",
    "     .withColumnRenamed('fuel_types', 'fuel')"
   ]
  },
  {
   "cell_type": "code",
   "execution_count": 124,
   "metadata": {},
   "outputs": [
    {
     "name": "stdout",
     "output_type": "stream",
     "text": [
      "root\n",
      " |-- company: string (nullable = true)\n",
      " |-- name: string (nullable = true)\n",
      " |-- engine: string (nullable = true)\n",
      " |-- cc_battery_capacity: string (nullable = true)\n",
      " |-- horse_power: string (nullable = true)\n",
      " |-- speed: string (nullable = true)\n",
      " |-- performance: string (nullable = true)\n",
      " |-- price: string (nullable = true)\n",
      " |-- fuel: string (nullable = true)\n",
      " |-- seats: string (nullable = true)\n",
      " |-- torque: string (nullable = true)\n",
      "\n"
     ]
    }
   ],
   "source": [
    "df.printSchema()"
   ]
  },
  {
   "cell_type": "markdown",
   "metadata": {},
   "source": [
    "### Casting Values"
   ]
  },
  {
   "cell_type": "code",
   "execution_count": 125,
   "metadata": {},
   "outputs": [],
   "source": [
    "def safe_numeric_extract(column_name):\n",
    "    \"\"\"Safely extract numeric value and handle empty results\"\"\"\n",
    "    extracted = F.regexp_extract(F.col(column_name), r\"([\\d.]+)\", 1)\n",
    "    return F.when(extracted != \"\", extracted).cast(DoubleType())\n",
    "\n",
    "df_copy = df \\\n",
    "    .withColumn('horse_power', safe_numeric_extract('horse_power')) \\\n",
    "    .withColumn('speed', safe_numeric_extract('speed')) \\\n",
    "    .withColumn('performance', safe_numeric_extract('performance')) \\\n",
    "    .withColumn('torque', safe_numeric_extract('torque'))"
   ]
  },
  {
   "cell_type": "code",
   "execution_count": 126,
   "metadata": {},
   "outputs": [],
   "source": [
    "def transform_price(price: str) -> DoubleType:\n",
    "    \"\"\"\n",
    "    Price transformation function.\n",
    "    Returns None if price cannot be converted to numeric value.\n",
    "    \"\"\"\n",
    "\n",
    "    numbers = [str(num) for num in range(0, 10)]\n",
    "    price = price \\\n",
    "                .replace(\"$\", \"\") \\\n",
    "                .replace(\" \", \"\") \\\n",
    "                .replace(\",\", \"\")\n",
    "    for char in price:\n",
    "        if char not in numbers: return None\n",
    "    \n",
    "    return price\n",
    "\n",
    "transform_price_udf = F.udf(transform_price, StringType())\n",
    "\n",
    "df_copy_1 = df_copy \\\n",
    "            .withColumn('price', transform_price_udf(F.col('price'))) \\\n",
    "            .dropna(how='any') \\\n",
    "            .withColumn('price', F.col('price').cast(DoubleType()))"
   ]
  },
  {
   "cell_type": "code",
   "execution_count": 127,
   "metadata": {},
   "outputs": [
    {
     "name": "stdout",
     "output_type": "stream",
     "text": [
      "root\n",
      " |-- company: string (nullable = true)\n",
      " |-- name: string (nullable = true)\n",
      " |-- engine: string (nullable = true)\n",
      " |-- cc_battery_capacity: string (nullable = true)\n",
      " |-- horse_power: double (nullable = true)\n",
      " |-- speed: double (nullable = true)\n",
      " |-- performance: double (nullable = true)\n",
      " |-- price: double (nullable = true)\n",
      " |-- fuel: string (nullable = true)\n",
      " |-- seats: string (nullable = true)\n",
      " |-- torque: double (nullable = true)\n",
      "\n"
     ]
    }
   ],
   "source": [
    "df_copy_1.printSchema()"
   ]
  },
  {
   "cell_type": "code",
   "execution_count": 128,
   "metadata": {},
   "outputs": [
    {
     "name": "stdout",
     "output_type": "stream",
     "text": [
      "+-----------+-------------+------+-------------------+-----------+-----+-----------+---------+---------------+-----+------+\n",
      "|    company|         name|engine|cc_battery_capacity|horse_power|speed|performance|    price|           fuel|seats|torque|\n",
      "+-----------+-------------+------+-------------------+-----------+-----+-----------+---------+---------------+-----+------+\n",
      "|    FERRARI|SF90 STRADALE|    V8|            3990 cc|      963.0|340.0|        2.5|1100000.0|plug in hyrbrid|    2| 800.0|\n",
      "|ROLLS ROYCE|      PHANTOM|   V12|            6749 cc|      563.0|250.0|        5.3| 460000.0|         Petrol|    5| 900.0|\n",
      "|   MERCEDES|      GT 63 S|    V8|           3,982 cc|      630.0|250.0|        3.2| 161000.0|         Petrol|    4| 900.0|\n",
      "|       AUDI|   AUDI R8 Gt|   V10|           5,204 cc|      602.0|320.0|        3.6| 253290.0|         Petrol|    2| 560.0|\n",
      "|        BMW| Mclaren 720s|    V8|           3,994 cc|      710.0|341.0|        2.9| 499000.0|         Petrol|    2| 770.0|\n",
      "+-----------+-------------+------+-------------------+-----------+-----+-----------+---------+---------------+-----+------+\n",
      "only showing top 5 rows\n"
     ]
    }
   ],
   "source": [
    "df_copy_1.show(5)"
   ]
  },
  {
   "cell_type": "code",
   "execution_count": 129,
   "metadata": {},
   "outputs": [],
   "source": [
    "df_copy = df_copy_1"
   ]
  },
  {
   "cell_type": "code",
   "execution_count": 130,
   "metadata": {},
   "outputs": [
    {
     "name": "stdout",
     "output_type": "stream",
     "text": [
      "+-----------+-------------+------+-------------------+-----------+-----+-----------+---------+---------------+-----+------+\n",
      "|    company|         name|engine|cc_battery_capacity|horse_power|speed|performance|    price|           fuel|seats|torque|\n",
      "+-----------+-------------+------+-------------------+-----------+-----+-----------+---------+---------------+-----+------+\n",
      "|    FERRARI|SF90 STRADALE|    V8|            3990 cc|      963.0|340.0|        2.5|1100000.0|plug in hyrbrid|    2| 800.0|\n",
      "|ROLLS ROYCE|      PHANTOM|   V12|            6749 cc|      563.0|250.0|        5.3| 460000.0|         Petrol|    5| 900.0|\n",
      "|   MERCEDES|      GT 63 S|    V8|           3,982 cc|      630.0|250.0|        3.2| 161000.0|         Petrol|    4| 900.0|\n",
      "|       AUDI|   AUDI R8 Gt|   V10|           5,204 cc|      602.0|320.0|        3.6| 253290.0|         Petrol|    2| 560.0|\n",
      "|        BMW| Mclaren 720s|    V8|           3,994 cc|      710.0|341.0|        2.9| 499000.0|         Petrol|    2| 770.0|\n",
      "+-----------+-------------+------+-------------------+-----------+-----+-----------+---------+---------------+-----+------+\n",
      "only showing top 5 rows\n"
     ]
    }
   ],
   "source": [
    "df_copy.show(5)"
   ]
  },
  {
   "cell_type": "markdown",
   "metadata": {},
   "source": [
    "### Working with `null` and dropping unnecessary columns"
   ]
  },
  {
   "cell_type": "code",
   "execution_count": 131,
   "metadata": {},
   "outputs": [],
   "source": [
    "df_copy = df_copy \\\n",
    "                .dropna(how='any') \\\n",
    "                .drop('cc_battery_capacity', 'engine', 'seats')"
   ]
  },
  {
   "cell_type": "code",
   "execution_count": 132,
   "metadata": {},
   "outputs": [
    {
     "data": {
      "text/plain": [
       "1042"
      ]
     },
     "execution_count": 132,
     "metadata": {},
     "output_type": "execute_result"
    }
   ],
   "source": [
    "df_copy.count()"
   ]
  },
  {
   "cell_type": "code",
   "execution_count": 133,
   "metadata": {},
   "outputs": [
    {
     "name": "stdout",
     "output_type": "stream",
     "text": [
      "root\n",
      " |-- company: string (nullable = true)\n",
      " |-- name: string (nullable = true)\n",
      " |-- horse_power: double (nullable = true)\n",
      " |-- speed: double (nullable = true)\n",
      " |-- performance: double (nullable = true)\n",
      " |-- price: double (nullable = true)\n",
      " |-- fuel: string (nullable = true)\n",
      " |-- torque: double (nullable = true)\n",
      "\n"
     ]
    }
   ],
   "source": [
    "df_copy.printSchema()"
   ]
  },
  {
   "cell_type": "code",
   "execution_count": 134,
   "metadata": {},
   "outputs": [],
   "source": [
    "df_copy.createOrReplaceTempView(\"car_dataset\")"
   ]
  },
  {
   "cell_type": "markdown",
   "metadata": {},
   "source": [
    "## Exploration"
   ]
  },
  {
   "cell_type": "markdown",
   "metadata": {},
   "source": [
    "### I. Average horse_power by Fuel type"
   ]
  },
  {
   "cell_type": "code",
   "execution_count": 135,
   "metadata": {},
   "outputs": [
    {
     "name": "stdout",
     "output_type": "stream",
     "text": [
      "+---------------+------+\n",
      "|           fuel|avg_hp|\n",
      "+---------------+------+\n",
      "|plug in hyrbrid| 963.0|\n",
      "|Hybrid (Petrol)| 567.5|\n",
      "|       Electric|346.14|\n",
      "|         Petrol|336.52|\n",
      "|         Hybrid|326.04|\n",
      "+---------------+------+\n",
      "only showing top 5 rows\n"
     ]
    }
   ],
   "source": [
    "spark.sql(\n",
    "    \"\"\"\n",
    "    select fuel, round(avg(horse_power), 2) as avg_hp\n",
    "    from car_dataset\n",
    "    group by fuel\n",
    "    order by avg_hp desc\n",
    "    \"\"\"\n",
    ").show(5)\n"
   ]
  },
  {
   "cell_type": "markdown",
   "metadata": {},
   "source": [
    "### II. Most Powerful Engine per Company"
   ]
  },
  {
   "cell_type": "code",
   "execution_count": 136,
   "metadata": {},
   "outputs": [
    {
     "name": "stdout",
     "output_type": "stream",
     "text": [
      "+-----------------+--------------------+-----+\n",
      "|          company|                name|speed|\n",
      "+-----------------+--------------------+-----+\n",
      "|     ASTON MARTIN|            VALKYRIE|402.0|\n",
      "|             AUDI|         R8 V10 PLUS|330.0|\n",
      "|            Acura|          NSX Type S|307.0|\n",
      "|          BENTLEY|Continental GT Azure|318.0|\n",
      "|              BMW|        Mclaren 720s|341.0|\n",
      "|          Bugatti|              Bolide|500.0|\n",
      "|         Cadillac|          Escalade V|200.0|\n",
      "|        Chevrolet|          Camaro ZL1|318.0|\n",
      "|          FERRARI|       SF90 STRADALE|340.0|\n",
      "|             Ford|Mustang Shelby GT500|290.0|\n",
      "|              GMC|Hummer EV SUV Edi...|170.0|\n",
      "|            HONDA|        CIVIC TYPE R|272.0|\n",
      "|          HYUNDAI|             IONIQ 6|185.0|\n",
      "|Jaguar Land Rover|   Jaguar F-Type SVR|320.0|\n",
      "|             Jeep|Wagoneer S (Elect...|177.0|\n",
      "|              KIA|       SPORTAGE PHEV|180.0|\n",
      "|            KIA  |SPORTAGE 2024(BAS...|200.0|\n",
      "|              Kia|  EV6 GT Performance|260.0|\n",
      "|      LAMBORGHINI|                SIAN|350.0|\n",
      "|         MAHINDRA|              XUV500|180.0|\n",
      "+-----------------+--------------------+-----+\n",
      "only showing top 20 rows\n"
     ]
    }
   ],
   "source": [
    "spark.sql(\n",
    "    \"\"\"\n",
    "    select * \n",
    "    from (\n",
    "        select company, name, speed, \n",
    "            row_number() over(partition by company order by horse_power desc) as rn\n",
    "        from car_dataset\n",
    "    ) t\n",
    "    where rn = 1\n",
    "    \"\"\"\n",
    ").select('company', 'name', 'speed').show()"
   ]
  },
  {
   "cell_type": "markdown",
   "metadata": {},
   "source": [
    "### III. Fastest Acceleration Ranking"
   ]
  },
  {
   "cell_type": "code",
   "execution_count": 137,
   "metadata": {},
   "outputs": [
    {
     "name": "stdout",
     "output_type": "stream",
     "text": [
      "+------------+--------------------+-----------+\n",
      "|     company|                name|performance|\n",
      "+------------+--------------------+-----------+\n",
      "|     FERRARI|       SF90 STRADALE|        2.5|\n",
      "| ROLLS ROYCE|             PHANTOM|        5.3|\n",
      "|    MERCEDES|             GT 63 S|        3.2|\n",
      "|        AUDI|          AUDI R8 Gt|        3.6|\n",
      "|         BMW|        Mclaren 720s|        2.9|\n",
      "|ASTON MARTIN|          VANTAGE F1|        3.6|\n",
      "|     BENTLEY|Continental GT Azure|        4.0|\n",
      "| LAMBORGHINI|     VENENO ROADSTER|        2.9|\n",
      "|     FERRARI|          F8 TRIBUTO|        2.9|\n",
      "|     FERRARI|             812 GTS|        2.9|\n",
      "|     FERRARI|           PORTOFINO|        3.2|\n",
      "|     FERRARI|                ROMA|        3.4|\n",
      "|     FERRARI|           MONZA SP2|        2.9|\n",
      "|     FERRARI|           F8 SPIDER|        2.9|\n",
      "|     FERRARI|         PORTOFINO M|        3.2|\n",
      "|     FERRARI|         ROMA SPIDER|        3.4|\n",
      "|      TOYOTA|            GR SUPRA|        4.1|\n",
      "|      TOYOTA|           TOYOTA 86|        6.4|\n",
      "|      TOYOTA|        TOYOTA  GR86|        5.6|\n",
      "|      TOYOTA| TOYOTA LAND CRUISER|        6.7|\n",
      "+------------+--------------------+-----------+\n",
      "only showing top 20 rows\n"
     ]
    }
   ],
   "source": [
    "spark.sql(\n",
    "    \"\"\"\n",
    "    select company, name, performance, \n",
    "           dense_rank() over(order by performance asc) as rank\n",
    "    from car_dataset\n",
    "    \"\"\"\n",
    ").select('company', 'name', 'performance').show()"
   ]
  },
  {
   "cell_type": "markdown",
   "metadata": {},
   "source": [
    "### IV. Top 3 Expensive Cars per Company"
   ]
  },
  {
   "cell_type": "code",
   "execution_count": 138,
   "metadata": {},
   "outputs": [
    {
     "name": "stdout",
     "output_type": "stream",
     "text": [
      "+------------+--------------------+---------+----+\n",
      "|     company|                name|    price|rank|\n",
      "+------------+--------------------+---------+----+\n",
      "|     Bugatti|    La Voiture Noire|    1.8E7|   1|\n",
      "|     Bugatti|          Centodieci|9000000.0|   2|\n",
      "|     Bugatti|                Divo|5800000.0|   3|\n",
      "| LAMBORGHINI|     VENENO ROADSTER|4500000.0|   1|\n",
      "|ASTON MARTIN|            VALKYRIE|3200000.0|   1|\n",
      "| LAMBORGHINI|                SIAN|2800000.0|   2|\n",
      "|     FERRARI|           MONZA SP2|1700000.0|   1|\n",
      "|ASTON MARTIN|              VICTOR|1300000.0|   2|\n",
      "|ASTON MARTIN|       LAGONDA TARAF|1100000.0|   3|\n",
      "|ASTON MARTIN|            VALHALLA|1100000.0|   3|\n",
      "|     FERRARI|       SF90 STRADALE|1100000.0|   2|\n",
      "|      Nissan|GT-R50 by Italdesign|1100000.0|   1|\n",
      "|      Nissan|   R390 GT1 Road Car|1000000.0|   2|\n",
      "|     Porsche|911 RSR (Motorspo...| 750000.0|   1|\n",
      "| LAMBORGHINI|  AVENTADOR SVJ XAGO| 603000.0|   3|\n",
      "|      Nissan|       GT-R LM NISMO| 600000.0|   3|\n",
      "| ROLLS ROYCE|   PHANTOM CELESTIAL| 515000.0|   1|\n",
      "|        Ford|                  GT| 500000.0|   1|\n",
      "| ROLLS ROYCE|    PHANTOM EXTENDED| 500000.0|   2|\n",
      "|         BMW|        Mclaren 720s| 499000.0|   1|\n",
      "+------------+--------------------+---------+----+\n",
      "only showing top 20 rows\n"
     ]
    }
   ],
   "source": [
    "top3_expensive = spark.sql(\n",
    "    \"\"\"\n",
    "    select * \n",
    "    from ( \n",
    "        select company, name, price, \n",
    "            dense_rank() over(partition by company order by price desc) as rank\n",
    "        from car_dataset\n",
    "    ) t\n",
    "    where rank <= 3\n",
    "    order by price desc\n",
    "    \"\"\"\n",
    ")\n",
    "top3_expensive.show()"
   ]
  },
  {
   "cell_type": "markdown",
   "metadata": {},
   "source": [
    "### V. Best Horsepower-to-Price Ratio"
   ]
  },
  {
   "cell_type": "code",
   "execution_count": 140,
   "metadata": {},
   "outputs": [
    {
     "name": "stdout",
     "output_type": "stream",
     "text": [
      "+-----------+--------------+-----------+-------+-----+\n",
      "|    company|          name|horse_power|  price|ratio|\n",
      "+-----------+--------------+-----------+-------+-----+\n",
      "|Tata Motors|Indica V2 Xeta|       65.0| 5000.0|76.92|\n",
      "|Tata Motors|    Indigo GLX|       85.0| 7200.0|84.71|\n",
      "|      Tesla|    Cybertruck|      800.0|69900.0|87.38|\n",
      "|Tata Motors|    Indica eV2|       70.0| 6200.0|88.57|\n",
      "|     TOYOTA|         CAMRY|      301.0|27000.0| 89.7|\n",
      "|     NISSAN|          370Z|      332.0|30000.0|90.36|\n",
      "|    HYUNDAI|      Veloster|      275.0|25000.0|90.91|\n",
      "|Tata Motors|    Indigo eCS|       70.0| 6500.0|92.86|\n",
      "|  Chevrolet|   Colorado WT|      310.0|29200.0|94.19|\n",
      "|     Nissan|       Rasheen|      105.0|10000.0|95.24|\n",
      "+-----------+--------------+-----------+-------+-----+\n",
      "\n"
     ]
    }
   ],
   "source": [
    "spark.sql(\n",
    "    \"\"\"\n",
    "    select company, \n",
    "           name, \n",
    "           horse_power, \n",
    "           price, \n",
    "           round((price / horse_power), 2) as ratio\n",
    "    from car_dataset\n",
    "    order by ratio asc\n",
    "    limit 10\n",
    "    \"\"\"\n",
    ").show()"
   ]
  },
  {
   "cell_type": "markdown",
   "metadata": {},
   "source": [
    "### VI. Cars Above Company Average Speed"
   ]
  },
  {
   "cell_type": "code",
   "execution_count": 141,
   "metadata": {},
   "outputs": [
    {
     "name": "stdout",
     "output_type": "stream",
     "text": [
      "+-----------------+---------+\n",
      "|          company|avg_speed|\n",
      "+-----------------+---------+\n",
      "|       Volkswagen|   203.59|\n",
      "|          Peugeot|   202.13|\n",
      "|         MERCEDES|    250.0|\n",
      "|      LAMBORGHINI|    334.0|\n",
      "|          HYUNDAI|    200.0|\n",
      "|            KIA  |    200.0|\n",
      "|Jaguar Land Rover|   250.08|\n",
      "|             Jeep|   190.47|\n",
      "|              Kia|   209.44|\n",
      "|        Chevrolet|   200.21|\n",
      "+-----------------+---------+\n",
      "only showing top 10 rows\n"
     ]
    }
   ],
   "source": [
    "company_avg_speed = spark.sql(\n",
    "    \"\"\"\n",
    "    select company, round(avg(speed), 2) as avg_speed \n",
    "    from car_dataset \n",
    "    group by company\n",
    "    \"\"\"\n",
    ")\n",
    "company_avg_speed.show(10)"
   ]
  },
  {
   "cell_type": "code",
   "execution_count": 142,
   "metadata": {},
   "outputs": [
    {
     "name": "stdout",
     "output_type": "stream",
     "text": [
      "+------------+--------------------+-----+\n",
      "|     company|                name|speed|\n",
      "+------------+--------------------+-----+\n",
      "|     Bugatti|              Bolide|500.0|\n",
      "|     Bugatti|  Chiron Super Sport|490.0|\n",
      "|ASTON MARTIN|            VALKYRIE|402.0|\n",
      "|       Tesla|          Roadster 2|402.0|\n",
      "|ASTON MARTIN|            VALHALLA|362.0|\n",
      "| LAMBORGHINI|     VENENO ROADSTER|356.0|\n",
      "| LAMBORGHINI|   AVENTADOR ULTIMAE|355.0|\n",
      "| LAMBORGHINI|AVENTADOR LP 780-...|355.0|\n",
      "| LAMBORGHINI|AVENTADOR LP 780-...|355.0|\n",
      "|      Nissan|   R390 GT1 Road Car|354.0|\n",
      "| LAMBORGHINI|         AVENTADOR S|350.0|\n",
      "| LAMBORGHINI|                SIAN|350.0|\n",
      "| LAMBORGHINI|        AVENTADOR SV|350.0|\n",
      "| LAMBORGHINI|  AVENTADOR ROADSTER|350.0|\n",
      "| LAMBORGHINI|       AVENTADOR SVJ|350.0|\n",
      "| LAMBORGHINI|AVENTADOR SVJ ROA...|350.0|\n",
      "| LAMBORGHINI|  AVENTADOR SVJ XAGO|350.0|\n",
      "|        Ford|                  GT|348.0|\n",
      "|         BMW|        Mclaren 720s|341.0|\n",
      "|     FERRARI|       SF90 STRADALE|340.0|\n",
      "+------------+--------------------+-----+\n",
      "only showing top 20 rows\n"
     ]
    }
   ],
   "source": [
    "cars_above_avg = spark.sql(\n",
    "    \"\"\"\n",
    "    select company, name, speed\n",
    "    from car_dataset c\n",
    "    where speed > (\n",
    "        select round(avg(speed))\n",
    "        from car_dataset\n",
    "        where company = c.company\n",
    "    )\n",
    "    order by speed desc\n",
    "    \"\"\"\n",
    ")\n",
    "cars_above_avg.show()"
   ]
  },
  {
   "cell_type": "markdown",
   "metadata": {},
   "source": [
    "### VII. Acceleration Performace Buckets"
   ]
  },
  {
   "cell_type": "code",
   "execution_count": 147,
   "metadata": {},
   "outputs": [
    {
     "name": "stdout",
     "output_type": "stream",
     "text": [
      "+----------+----+------+\n",
      "|super_fast|fast|normal|\n",
      "+----------+----+------+\n",
      "|        52| 206|   784|\n",
      "+----------+----+------+\n",
      "\n"
     ]
    }
   ],
   "source": [
    "spark.sql(\n",
    "    \"\"\"\n",
    "    select \n",
    "          sum(case \n",
    "              when performance >=0 and performance < 3 then 1 else 0 end) as super_fast,\n",
    "          sum(case \n",
    "              when performance >=3 and performance < 5 then 1 else 0 end) as fast,\n",
    "          sum(case \n",
    "              when performance >=5 then 1 else 0 end) as normal\n",
    "    from car_dataset\n",
    "    \"\"\"\n",
    ").show()"
   ]
  },
  {
   "cell_type": "code",
   "execution_count": 153,
   "metadata": {},
   "outputs": [
    {
     "name": "stdout",
     "output_type": "stream",
     "text": [
      "+------------+--------------------+-----------+----------+\n",
      "|     company|                name|performance|    status|\n",
      "+------------+--------------------+-----------+----------+\n",
      "|     FERRARI|       SF90 STRADALE|        2.5|super_fast|\n",
      "| ROLLS ROYCE|             PHANTOM|        5.3|    normal|\n",
      "|    MERCEDES|             GT 63 S|        3.2|      fast|\n",
      "|        AUDI|          AUDI R8 Gt|        3.6|      fast|\n",
      "|         BMW|        Mclaren 720s|        2.9|super_fast|\n",
      "|ASTON MARTIN|          VANTAGE F1|        3.6|      fast|\n",
      "|     BENTLEY|Continental GT Azure|        4.0|      fast|\n",
      "| LAMBORGHINI|     VENENO ROADSTER|        2.9|super_fast|\n",
      "|     FERRARI|          F8 TRIBUTO|        2.9|super_fast|\n",
      "|     FERRARI|             812 GTS|        2.9|super_fast|\n",
      "|     FERRARI|           PORTOFINO|        3.2|      fast|\n",
      "|     FERRARI|                ROMA|        3.4|      fast|\n",
      "|     FERRARI|           MONZA SP2|        2.9|super_fast|\n",
      "|     FERRARI|           F8 SPIDER|        2.9|super_fast|\n",
      "|     FERRARI|         PORTOFINO M|        3.2|      fast|\n",
      "|     FERRARI|         ROMA SPIDER|        3.4|      fast|\n",
      "|      TOYOTA|            GR SUPRA|        4.1|      fast|\n",
      "|      TOYOTA|           TOYOTA 86|        6.4|    normal|\n",
      "|      TOYOTA|        TOYOTA  GR86|        5.6|    normal|\n",
      "|      TOYOTA| TOYOTA LAND CRUISER|        6.7|    normal|\n",
      "+------------+--------------------+-----------+----------+\n",
      "only showing top 20 rows\n"
     ]
    }
   ],
   "source": [
    "spark.sql(\n",
    "    \"\"\"\n",
    "    select company, \n",
    "           name, \n",
    "           performance,\n",
    "           (case\n",
    "                when performance >=0 and performance < 3 then \"super_fast\"\n",
    "                when performance >=3 and performance < 5 then \"fast\"\n",
    "                when performance >=5 then \"normal\"\n",
    "            end) as status\n",
    "    from car_dataset\n",
    "    \"\"\"\n",
    ").show()"
   ]
  },
  {
   "cell_type": "markdown",
   "metadata": {},
   "source": [
    "### VIII. Most Common Fuel Type Per Company"
   ]
  },
  {
   "cell_type": "code",
   "execution_count": 156,
   "metadata": {},
   "outputs": [
    {
     "name": "stdout",
     "output_type": "stream",
     "text": [
      "+------------+---------------+----------+\n",
      "|     company|           fuel|no_of_cars|\n",
      "+------------+---------------+----------+\n",
      "|ASTON MARTIN|         Petrol|         9|\n",
      "|ASTON MARTIN|         Hybrid|         2|\n",
      "|        AUDI|       Electric|         2|\n",
      "|        AUDI|         Petrol|        19|\n",
      "|       Acura|         Hybrid|         7|\n",
      "|       Acura|         Petrol|        20|\n",
      "|     BENTLEY|         Petrol|         1|\n",
      "|         BMW|         Hybrid|         1|\n",
      "|         BMW|         Petrol|        30|\n",
      "|         BMW|         Diesel|        10|\n",
      "|     Bugatti|         Petrol|        10|\n",
      "|    Cadillac|         Petrol|        17|\n",
      "|    Cadillac|       Electric|         3|\n",
      "|   Chevrolet|       Electric|         4|\n",
      "|   Chevrolet|         Diesel|         4|\n",
      "|   Chevrolet|         Petrol|        50|\n",
      "|     FERRARI|plug in hyrbrid|         1|\n",
      "|     FERRARI|         Petrol|         8|\n",
      "|        Ford|         Hybrid|         3|\n",
      "|        Ford|         Petrol|        21|\n",
      "+------------+---------------+----------+\n",
      "only showing top 20 rows\n"
     ]
    }
   ],
   "source": [
    "spark.sql(\n",
    "    \"\"\"\n",
    "    select company, fuel, count(*) no_of_cars\n",
    "    from car_dataset\n",
    "    group by company, fuel\n",
    "    order by company\n",
    "    \"\"\"\n",
    ").show()"
   ]
  },
  {
   "cell_type": "code",
   "execution_count": 158,
   "metadata": {},
   "outputs": [
    {
     "name": "stdout",
     "output_type": "stream",
     "text": [
      "+-----------------+------+---+\n",
      "|          company|  fuel|cnt|\n",
      "+-----------------+------+---+\n",
      "|     ASTON MARTIN|Petrol|  9|\n",
      "|             AUDI|Petrol| 19|\n",
      "|            Acura|Petrol| 20|\n",
      "|          BENTLEY|Petrol|  1|\n",
      "|              BMW|Petrol| 30|\n",
      "|          Bugatti|Petrol| 10|\n",
      "|         Cadillac|Petrol| 17|\n",
      "|        Chevrolet|Petrol| 50|\n",
      "|          FERRARI|Petrol|  8|\n",
      "|             Ford|Petrol| 21|\n",
      "|              GMC|Petrol| 48|\n",
      "|            HONDA|Petrol|  5|\n",
      "|          HYUNDAI|Petrol| 11|\n",
      "|Jaguar Land Rover|Petrol| 33|\n",
      "|             Jeep|Petrol| 14|\n",
      "|              KIA|Petrol| 11|\n",
      "|            KIA  |Petrol|  1|\n",
      "|              Kia|Petrol| 39|\n",
      "|      LAMBORGHINI|Petrol| 23|\n",
      "|         MAHINDRA|Diesel|  2|\n",
      "+-----------------+------+---+\n",
      "only showing top 20 rows\n"
     ]
    }
   ],
   "source": [
    "most_common = spark.sql(\n",
    "    \"\"\"\n",
    "    select company, fuel, cnt,\n",
    "        dense_rank() over(partition by company order by cnt desc) as rank\n",
    "    from (\n",
    "        select company, fuel, count(fuel) as cnt\n",
    "        from car_dataset\n",
    "        group by company, fuel\n",
    "    ) t\n",
    "    \"\"\"\n",
    ")\n",
    "\n",
    "most_common.filter(F.col('rank') == 1) \\\n",
    "           .select(['company', 'fuel', 'cnt']) \\\n",
    "           .show()"
   ]
  },
  {
   "cell_type": "markdown",
   "metadata": {},
   "source": [
    "### IX. Price Gap Analysis"
   ]
  },
  {
   "cell_type": "code",
   "execution_count": null,
   "metadata": {},
   "outputs": [],
   "source": []
  },
  {
   "cell_type": "code",
   "execution_count": null,
   "metadata": {},
   "outputs": [],
   "source": []
  },
  {
   "cell_type": "code",
   "execution_count": null,
   "metadata": {},
   "outputs": [],
   "source": []
  },
  {
   "cell_type": "markdown",
   "metadata": {},
   "source": [
    "### Cars Above Overall Average Horsepower"
   ]
  },
  {
   "cell_type": "code",
   "execution_count": null,
   "metadata": {},
   "outputs": [
    {
     "name": "stdout",
     "output_type": "stream",
     "text": [
      "+------------+--------------------+-----------+\n",
      "|company_name|            car_name|horse_power|\n",
      "+------------+--------------------+-----------+\n",
      "|     Bugatti|              Bolide|     1850.0|\n",
      "|     Bugatti|  Chiron Super Sport|     1600.0|\n",
      "|     Bugatti|          Centodieci|     1600.0|\n",
      "|     Bugatti|             Mistral|     1600.0|\n",
      "|     Bugatti|              Chiron|     1500.0|\n",
      "|     Bugatti|    Chiron Pur Sport|     1500.0|\n",
      "|     Bugatti|        Chiron Sport|     1500.0|\n",
      "|     Bugatti|        Chiron Noire|     1500.0|\n",
      "|     Bugatti|                Divo|     1500.0|\n",
      "|     Bugatti|    La Voiture Noire|     1500.0|\n",
      "|ASTON MARTIN|            VALKYRIE|     1160.0|\n",
      "|ASTON MARTIN|            VALHALLA|     1000.0|\n",
      "|     FERRARI|       SF90 STRADALE|      963.0|\n",
      "|ASTON MARTIN|              VICTOR|      836.0|\n",
      "|         GMC|Hummer EV SUV Edi...|      830.0|\n",
      "|         GMC|Hummer EV SUV Ext...|      830.0|\n",
      "|         GMC|Hummer EV Adventu...|      830.0|\n",
      "| LAMBORGHINI|                SIAN|      819.0|\n",
      "|       Tesla|          Cybertruck|      800.0|\n",
      "|     FERRARI|             812 GTS|      789.0|\n",
      "+------------+--------------------+-----------+\n",
      "only showing top 20 rows\n"
     ]
    }
   ],
   "source": [
    "spark.sql(\n",
    "    \"\"\"\n",
    "    select company, name, horse_power\n",
    "    from car_dataset\n",
    "    where horse_power > (select round(avg(horse_power), 2) as avg_hp\n",
    "                         from car_dataset)\n",
    "    order by horse_power desc\n",
    "    \"\"\"\n",
    ").show()"
   ]
  },
  {
   "cell_type": "markdown",
   "metadata": {},
   "source": [
    "### Most Common Fuel Type per Company"
   ]
  },
  {
   "cell_type": "markdown",
   "metadata": {},
   "source": [
    "### Top Speed Leaders by Seat Category"
   ]
  },
  {
   "cell_type": "markdown",
   "metadata": {},
   "source": [
    "### Company Ranking by Avg Horsepower"
   ]
  },
  {
   "cell_type": "code",
   "execution_count": null,
   "metadata": {},
   "outputs": [
    {
     "name": "stdout",
     "output_type": "stream",
     "text": [
      "+-----------------+------+----+\n",
      "|     company_name|avg_hp|rank|\n",
      "+-----------------+------+----+\n",
      "|          Bugatti|1565.0|   1|\n",
      "|          FERRARI|709.89|   2|\n",
      "|     ASTON MARTIN|701.09|   3|\n",
      "|      LAMBORGHINI|691.54|   4|\n",
      "|     ROLLS ROYCE | 591.0|   5|\n",
      "|      ROLLS ROYCE|583.76|   6|\n",
      "|          BENTLEY| 550.0|   7|\n",
      "|            Tesla|514.71|   8|\n",
      "|          Porsche|463.26|   9|\n",
      "|            Volvo|456.67|  10|\n",
      "|         MERCEDES|432.86|  11|\n",
      "|             AUDI|393.19|  12|\n",
      "|              GMC|377.44|  13|\n",
      "|         Cadillac| 368.4|  14|\n",
      "|Jaguar Land Rover|355.65|  15|\n",
      "|             Jeep|318.89|  16|\n",
      "|           NISSAN| 316.4|  17|\n",
      "|             Ford|314.97|  18|\n",
      "|            Acura|311.04|  19|\n",
      "|        Chevrolet|303.67|  20|\n",
      "+-----------------+------+----+\n",
      "only showing top 20 rows\n"
     ]
    },
    {
     "name": "stderr",
     "output_type": "stream",
     "text": [
      "25/08/26 10:19:07 WARN WindowExec: No Partition Defined for Window operation! Moving all data to a single partition, this can cause serious performance degradation.\n",
      "25/08/26 10:19:07 WARN WindowExec: No Partition Defined for Window operation! Moving all data to a single partition, this can cause serious performance degradation.\n",
      "25/08/26 10:19:07 WARN WindowExec: No Partition Defined for Window operation! Moving all data to a single partition, this can cause serious performance degradation.\n",
      "25/08/26 10:19:07 WARN WindowExec: No Partition Defined for Window operation! Moving all data to a single partition, this can cause serious performance degradation.\n",
      "25/08/26 10:19:07 WARN WindowExec: No Partition Defined for Window operation! Moving all data to a single partition, this can cause serious performance degradation.\n",
      "25/08/26 10:19:07 WARN WindowExec: No Partition Defined for Window operation! Moving all data to a single partition, this can cause serious performance degradation.\n"
     ]
    }
   ],
   "source": [
    "spark.sql(\n",
    "    \"\"\"\n",
    "\n",
    "    select company, avg_hp,\n",
    "        dense_rank() over(order by avg_hp desc) as rank\n",
    "    from (\n",
    "            select company, round(avg(horse_power), 2) as avg_hp\n",
    "            from car_dataset\n",
    "            group by company\n",
    "    ) t\n",
    "    \"\"\"\n",
    ").show()"
   ]
  },
  {
   "cell_type": "code",
   "execution_count": null,
   "metadata": {},
   "outputs": [],
   "source": []
  }
 ],
 "metadata": {
  "kernelspec": {
   "display_name": "kaggle_experiments",
   "language": "python",
   "name": "python3"
  },
  "language_info": {
   "codemirror_mode": {
    "name": "ipython",
    "version": 3
   },
   "file_extension": ".py",
   "mimetype": "text/x-python",
   "name": "python",
   "nbconvert_exporter": "python",
   "pygments_lexer": "ipython3",
   "version": "3.13.7"
  }
 },
 "nbformat": 4,
 "nbformat_minor": 2
}
