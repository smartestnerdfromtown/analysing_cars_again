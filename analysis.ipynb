{
 "cells": [
  {
   "cell_type": "code",
   "execution_count": 325,
   "metadata": {},
   "outputs": [],
   "source": [
    "from pyspark.sql import SparkSession\n",
    "from pyspark.sql import functions as F\n",
    "from pyspark.sql.types import (\n",
    "    StructType,\n",
    "    StructField,\n",
    "    StringType,\n",
    "    IntegerType,\n",
    "    DoubleType,\n",
    ")"
   ]
  },
  {
   "cell_type": "code",
   "execution_count": 326,
   "metadata": {},
   "outputs": [],
   "source": [
    "from pyspark.sql import SparkSession\n",
    "\n",
    "spark = (\n",
    "    SparkSession.builder.appName(\"Car_Analysis\")\n",
    "    .config(\"spark.executor.memory\", \"4g\")\n",
    "    .getOrCreate()\n",
    ")\n",
    "\n",
    "spark.sparkContext.setLogLevel(\"WARN\")\n",
    "# Tip to reader: use WARN for development, ERROR in prod"
   ]
  },
  {
   "cell_type": "code",
   "execution_count": 327,
   "metadata": {},
   "outputs": [],
   "source": [
    "df = spark.read.csv(\n",
    "    path=\"dataset/Cars Datasets 2025.csv\",\n",
    "    header=True,\n",
    "    mode=\"PERMISSIVE\",\n",
    ")"
   ]
  },
  {
   "cell_type": "code",
   "execution_count": 328,
   "metadata": {},
   "outputs": [
    {
     "name": "stdout",
     "output_type": "stream",
     "text": [
      "+-------------+-------------+-------+-------------------+----------+-----------+-------------------------+-----------+---------------+-----+------+\n",
      "|Company Names|   Cars Names|Engines|CC/Battery Capacity|HorsePower|Total Speed|Performance(0 - 100 )KM/H|Cars Prices|     Fuel Types|Seats|Torque|\n",
      "+-------------+-------------+-------+-------------------+----------+-----------+-------------------------+-----------+---------------+-----+------+\n",
      "|      FERRARI|SF90 STRADALE|     V8|            3990 cc|    963 hp|   340 km/h|                  2.5 sec|$1,100,000 |plug in hyrbrid|    2|800 Nm|\n",
      "+-------------+-------------+-------+-------------------+----------+-----------+-------------------------+-----------+---------------+-----+------+\n",
      "only showing top 1 row\n"
     ]
    }
   ],
   "source": [
    "df.show(1)"
   ]
  },
  {
   "cell_type": "markdown",
   "metadata": {},
   "source": [
    "## Data Transformations"
   ]
  },
  {
   "cell_type": "markdown",
   "metadata": {},
   "source": [
    "### Renaming Column Names to Camel Case"
   ]
  },
  {
   "cell_type": "code",
   "execution_count": 339,
   "metadata": {},
   "outputs": [],
   "source": [
    "def to_camel_case(column_name):\n",
    "    \"\"\"\n",
    "    Convert column name to camel case (Python PEP8 style)\n",
    "    Example: \"Company Names\" -> \"company_names\"\n",
    "    \"\"\"\n",
    "\n",
    "    name = column_name.lower()\n",
    "    name = name.replace(' ', '_').replace('/', '_').replace('(', '').replace(')', '')\n",
    "    name = ''.join(c if c.isalnum() or c == '_' else '' for c in name)\n",
    "    name = '_'.join(filter(None, name.split('_')))\n",
    "    return name"
   ]
  },
  {
   "cell_type": "code",
   "execution_count": 340,
   "metadata": {},
   "outputs": [],
   "source": [
    "current_columns = df.columns\n",
    "column_mapping = {col: to_camel_case(col) for col in current_columns}\n",
    "\n",
    "for old_name, new_name in column_mapping.items():\n",
    "    df = df.withColumnRenamed(old_name, new_name)"
   ]
  },
  {
   "cell_type": "code",
   "execution_count": 341,
   "metadata": {},
   "outputs": [],
   "source": [
    "df = df \\\n",
    "     .withColumnRenamed('company_names', 'company') \\\n",
    "     .withColumnRenamed('cars_names', 'name') \\\n",
    "     .withColumnRenamed('engines', 'engine') \\\n",
    "     .withColumnRenamed('horsepower', 'horse_power') \\\n",
    "     .withColumnRenamed('total_speed', 'speed') \\\n",
    "     .withColumnRenamed('performance0_100_km_h', 'performance') \\\n",
    "     .withColumnRenamed('cars_prices', 'price') \\\n",
    "     .withColumnRenamed('fuel_types', 'fuel')"
   ]
  },
  {
   "cell_type": "code",
   "execution_count": 336,
   "metadata": {},
   "outputs": [
    {
     "name": "stdout",
     "output_type": "stream",
     "text": [
      "+-------+-------------+------+-------------------+-----------+--------+-----------+-----------+---------------+-----+------+\n",
      "|company|         name|engine|cc_battery_capacity|horse_power|   speed|performance|      price|           fuel|seats|torque|\n",
      "+-------+-------------+------+-------------------+-----------+--------+-----------+-----------+---------------+-----+------+\n",
      "|FERRARI|SF90 STRADALE|    V8|            3990 cc|     963 hp|340 km/h|    2.5 sec|$1,100,000 |plug in hyrbrid|    2|800 Nm|\n",
      "+-------+-------------+------+-------------------+-----------+--------+-----------+-----------+---------------+-----+------+\n",
      "only showing top 1 row\n"
     ]
    }
   ],
   "source": [
    "df.show(1)"
   ]
  },
  {
   "cell_type": "markdown",
   "metadata": {},
   "source": []
  },
  {
   "cell_type": "code",
   "execution_count": null,
   "metadata": {},
   "outputs": [],
   "source": []
  },
  {
   "cell_type": "code",
   "execution_count": null,
   "metadata": {},
   "outputs": [],
   "source": []
  },
  {
   "cell_type": "code",
   "execution_count": 284,
   "metadata": {},
   "outputs": [],
   "source": [
    "df_clean = df.dropna(how=\"any\")"
   ]
  },
  {
   "cell_type": "code",
   "execution_count": 285,
   "metadata": {},
   "outputs": [],
   "source": [
    "df_clean = (\n",
    "    df_clean.withColumnRenamed(\"Company Names\", \"company_name\")\n",
    "    .withColumnRenamed(\"Cars Names\", \"car_name\")\n",
    "    .withColumnRenamed(\"Total Speed\", \"total_speed\")\n",
    "    .withColumnRenamed(\"Performance(0 - 100 )KM/H\", \"performance\")\n",
    "    .withColumnRenamed(\"HorsePower\", \"horse_power\")\n",
    "    .withColumnRenamed(\"Fuel Types\", \"fuel_type\")\n",
    "    .withColumnRenamed(\"Cars Prices\", \"price\")\n",
    "    .withColumnRenamed('Seats', 'seats')\n",
    ")"
   ]
  },
  {
   "cell_type": "code",
   "execution_count": 286,
   "metadata": {},
   "outputs": [],
   "source": [
    "df_clean = (\n",
    "    df_clean.withColumn(\"horse_power\", F.regexp_replace(\"horse_power\", r\"\\(.*?\\)\", \"\"))\n",
    "    .withColumn(\"horse_power\", F.regexp_replace(\"horse_power\", r\"[^\\d\\-\\./]\", \" \"))\n",
    "    .withColumn(\"horse_power\", F.trim(F.col(\"horse_power\")))\n",
    ")"
   ]
  },
  {
   "cell_type": "code",
   "execution_count": 287,
   "metadata": {},
   "outputs": [],
   "source": [
    "df_clean = df_clean.withColumn(\n",
    "    \"horse_power\",\n",
    "    F.when(\n",
    "        F.col(\"horse_power\").rlike(r\"^\\d+\\s*-\\s*\\d+$\"),\n",
    "        (\n",
    "            F.split(F.col(\"horse_power\"), \"-\").getItem(0).cast(\"int\")\n",
    "            + F.split(F.col(\"horse_power\"), \"-\").getItem(1).cast(\"int\")\n",
    "        )\n",
    "        / 2,\n",
    "    )\n",
    "    .when(\n",
    "        F.col(\"horse_power\").rlike(r\"^\\d+\\s*/\\s*\\d+$\"),\n",
    "        (\n",
    "            F.split(F.col(\"horse_power\"), \"/\").getItem(0).cast(\"int\")\n",
    "            + F.split(F.col(\"horse_power\"), \"/\").getItem(1).cast(\"int\")\n",
    "        )\n",
    "        / 2,\n",
    "    )\n",
    "    .when(\n",
    "        F.col(\"horse_power\").rlike(r\"^\\d+(\\.\\d+)?$\"),\n",
    "        F.col(\"horse_power\").cast(\"double\"),\n",
    "    )\n",
    "    .otherwise(None),\n",
    ")"
   ]
  },
  {
   "cell_type": "code",
   "execution_count": 288,
   "metadata": {},
   "outputs": [
    {
     "name": "stdout",
     "output_type": "stream",
     "text": [
      "+------------+-------------+-------+-------------------+-----------+-----------+-----------+---------+---------------+-----+------+\n",
      "|company_name|     car_name|Engines|CC/Battery Capacity|horse_power|total_speed|performance|    price|      fuel_type|seats|Torque|\n",
      "+------------+-------------+-------+-------------------+-----------+-----------+-----------+---------+---------------+-----+------+\n",
      "|     FERRARI|SF90 STRADALE|     V8|            3990 cc|      963.0|   340 km/h|    2.5 sec|1100000.0|plug in hyrbrid|    2|800 Nm|\n",
      "+------------+-------------+-------+-------------------+-----------+-----------+-----------+---------+---------------+-----+------+\n",
      "only showing top 1 row\n"
     ]
    }
   ],
   "source": [
    "df_clean = (\n",
    "    df_clean.withColumn(\"price\", F.regexp_replace(\"price\", r\"[^\\d]\", \"\"))\n",
    "    .withColumn(\"price\", F.trim(F.col(\"price\")))\n",
    "    .withColumn(\"price\", F.when(F.col(\"price\") == \"\", None) # handling \"\" values.\n",
    "                .otherwise(F.col(\"price\").cast(\"double\") # convert all other to double\n",
    "    ))\n",
    ")\n",
    "df_clean.show(1)"
   ]
  },
  {
   "cell_type": "code",
   "execution_count": 289,
   "metadata": {},
   "outputs": [
    {
     "name": "stdout",
     "output_type": "stream",
     "text": [
      "+------------+-------------+-------+-------------------+-----------+-----------+-----------+---------+---------------+-----+------+\n",
      "|company_name|     car_name|Engines|CC/Battery Capacity|horse_power|total_speed|performance|    price|      fuel_type|seats|Torque|\n",
      "+------------+-------------+-------+-------------------+-----------+-----------+-----------+---------+---------------+-----+------+\n",
      "|     FERRARI|SF90 STRADALE|     V8|            3990 cc|      963.0|      340.0|    2.5 sec|1100000.0|plug in hyrbrid|    2|800 Nm|\n",
      "+------------+-------------+-------+-------------------+-----------+-----------+-----------+---------+---------------+-----+------+\n",
      "only showing top 1 row\n"
     ]
    }
   ],
   "source": [
    "df_clean = (\n",
    "    df_clean.withColumn(\n",
    "        \"total_speed\", F.regexp_replace(\"total_speed\", r\"[^\\d]\", \"\")\n",
    "    ) \\\n",
    "    .withColumn(\"total_speed\", F.trim(F.col(\"total_speed\")))\n",
    "    .withColumn(\n",
    "        \"total_speed\", F.when(F.col(\"total_speed\") == \"\", None) # handling \"\" values.\n",
    "        .otherwise(F.col(\"total_speed\").cast(\"double\")          # convert all other to double\n",
    "    ))\n",
    ")\n",
    "df_clean.show(1)"
   ]
  },
  {
   "cell_type": "code",
   "execution_count": 290,
   "metadata": {},
   "outputs": [],
   "source": [
    "df_clean.createOrReplaceTempView(\"car_dataset\")"
   ]
  },
  {
   "cell_type": "markdown",
   "metadata": {},
   "source": [
    "### Average horse_power by Fuel type"
   ]
  },
  {
   "cell_type": "code",
   "execution_count": 147,
   "metadata": {},
   "outputs": [],
   "source": [
    "avg_hs_fuelt_type = spark.sql(\n",
    "    \"\"\"\n",
    "    select fuel_type, round(avg(horse_power), 2) as avg_hp\n",
    "    from car_dataset\n",
    "    group by fuel_type\n",
    "    order by avg_hp desc\n",
    "    \"\"\"\n",
    ")"
   ]
  },
  {
   "cell_type": "markdown",
   "metadata": {},
   "source": [
    "### Most Powerful Engine per Company"
   ]
  },
  {
   "cell_type": "code",
   "execution_count": 148,
   "metadata": {},
   "outputs": [],
   "source": [
    "most_powerful = spark.sql(\n",
    "    \"\"\"\n",
    "    select * \n",
    "    from (\n",
    "        select company_name, car_name, total_speed, \n",
    "            row_number() over(partition by company_name order by horse_power desc) as rn\n",
    "        from car_dataset\n",
    "    ) t\n",
    "    where rn = 1\n",
    "    \"\"\"\n",
    ")"
   ]
  },
  {
   "cell_type": "markdown",
   "metadata": {},
   "source": [
    "### Fastest Acceleration Ranking - in process"
   ]
  },
  {
   "cell_type": "markdown",
   "metadata": {},
   "source": [
    "### Top 3 Expensive Cars per Company"
   ]
  },
  {
   "cell_type": "code",
   "execution_count": 217,
   "metadata": {},
   "outputs": [
    {
     "name": "stdout",
     "output_type": "stream",
     "text": [
      "+------------+--------------------+---------+----+\n",
      "|company_name|            car_name|    price|rank|\n",
      "+------------+--------------------+---------+----+\n",
      "|ASTON MARTIN|            VALKYRIE|    3.2E7|   1|\n",
      "|ASTON MARTIN|              VICTOR|    1.3E7|   2|\n",
      "|ASTON MARTIN|            VALHALLA|    1.1E7|   3|\n",
      "|ASTON MARTIN|       LAGONDA TARAF|    1.1E7|   3|\n",
      "|        AUDI|          AUDI R8 Gt|2532900.0|   1|\n",
      "|        AUDI|         R8 V10 PLUS|1940000.0|   2|\n",
      "|        AUDI|       RS7 SPORTBACK|1140000.0|   3|\n",
      "|       Acura|          NSX Type S|1570000.0|   1|\n",
      "|       Acura|NSX 3.5L Hybrid C...|1570000.0|   1|\n",
      "|       Acura|  NSX Carbon Edition|1570000.0|   1|\n",
      "|       Acura|NSX GT3 (Track Ve...|1500000.0|   2|\n",
      "|       Acura|     TLX PMC Edition| 620000.0|   3|\n",
      "|     BENTLEY|Continental GT Azure|3110000.0|   1|\n",
      "|         BMW|        Mclaren 720s|4990000.0|   1|\n",
      "|         BMW|         I8 ROADSTER|1650000.0|   2|\n",
      "|         BMW|       M8 GRAN COUPE|1460000.0|   3|\n",
      "|     Bugatti|          Centodieci|    9.0E7|   1|\n",
      "|     Bugatti|                Divo|    5.8E7|   2|\n",
      "|     Bugatti|             Mistral|    5.0E7|   3|\n",
      "|    Cadillac|          Escalade V|1499900.0|   1|\n",
      "+------------+--------------------+---------+----+\n",
      "only showing top 20 rows\n"
     ]
    }
   ],
   "source": [
    "top3_expensive = spark.sql(\n",
    "    \"\"\"\n",
    "    select * \n",
    "    from ( \n",
    "        select company_name, car_name, price, \n",
    "            dense_rank() over(partition by company_name order by price desc) as rank\n",
    "        from car_dataset\n",
    "    ) t\n",
    "    where rank <= 3\n",
    "    \"\"\"\n",
    ")\n",
    "top3_expensive.show()"
   ]
  },
  {
   "cell_type": "markdown",
   "metadata": {},
   "source": [
    "### Average Speed per Seat Count - in process"
   ]
  },
  {
   "cell_type": "markdown",
   "metadata": {},
   "source": [
    "### Cars Above Company Average Speed"
   ]
  },
  {
   "cell_type": "code",
   "execution_count": 296,
   "metadata": {},
   "outputs": [
    {
     "name": "stdout",
     "output_type": "stream",
     "text": [
      "+-----------------+---------+\n",
      "|     company_name|avg_speed|\n",
      "+-----------------+---------+\n",
      "|       Volkswagen|    204.0|\n",
      "|          Peugeot|    202.0|\n",
      "|         MERCEDES|    250.0|\n",
      "|      LAMBORGHINI|    334.0|\n",
      "|          HYUNDAI|    200.0|\n",
      "|            KIA  |    200.0|\n",
      "|Jaguar Land Rover|    250.0|\n",
      "|             Jeep|    190.0|\n",
      "|       Mitsubishi|    174.0|\n",
      "|              Kia|    209.0|\n",
      "+-----------------+---------+\n",
      "only showing top 10 rows\n"
     ]
    }
   ],
   "source": [
    "company_avg_speed = spark.sql(\n",
    "    \"\"\"\n",
    "    select company_name, round(avg(total_speed)) as avg_speed \n",
    "    from car_dataset \n",
    "    group by company_name\n",
    "    \"\"\"\n",
    ")\n",
    "company_avg_speed.show(10)"
   ]
  },
  {
   "cell_type": "code",
   "execution_count": 297,
   "metadata": {},
   "outputs": [
    {
     "name": "stdout",
     "output_type": "stream",
     "text": [
      "+------------+-------------------+-----------+\n",
      "|company_name|           car_name|total_speed|\n",
      "+------------+-------------------+-----------+\n",
      "|     FERRARI|      SF90 STRADALE|      340.0|\n",
      "|        AUDI|         AUDI R8 Gt|      320.0|\n",
      "|         BMW|       Mclaren 720s|      341.0|\n",
      "| LAMBORGHINI|    VENENO ROADSTER|      356.0|\n",
      "|     FERRARI|         F8 TRIBUTO|      340.0|\n",
      "|     FERRARI|            812 GTS|      340.0|\n",
      "|     FERRARI|          MONZA SP2|      340.0|\n",
      "|     FERRARI|          F8 SPIDER|      340.0|\n",
      "|      TOYOTA|           GR SUPRA|      250.0|\n",
      "|      TOYOTA|          TOYOTA 86|      226.0|\n",
      "|      TOYOTA|       TOYOTA  GR86|      226.0|\n",
      "|      TOYOTA|TOYOTA LAND CRUISER|      220.0|\n",
      "|      TOYOTA|     TOYOTA SEQUOIA|      200.0|\n",
      "|      NISSAN|               GT-R|      315.0|\n",
      "|      NISSAN|               370Z|      250.0|\n",
      "|      NISSAN|            Z PROTO|      290.0|\n",
      "|      NISSAN|             MAXIMA|      240.0|\n",
      "|ASTON MARTIN|           VALKYRIE|      402.0|\n",
      "|ASTON MARTIN|           VALHALLA|      362.0|\n",
      "|ASTON MARTIN|   DBS SUPERLEGGERA|      340.0|\n",
      "+------------+-------------------+-----------+\n",
      "only showing top 20 rows\n"
     ]
    }
   ],
   "source": [
    "cars_above_avg = spark.sql(\n",
    "    \"\"\"\n",
    "    select company_name, car_name, total_speed\n",
    "    from car_dataset c\n",
    "    where total_speed > (\n",
    "        select round(avg(total_speed))\n",
    "        from car_dataset\n",
    "        where company_name = c.company_name\n",
    "    )\n",
    "    \"\"\"\n",
    ")\n",
    "cars_above_avg.show()"
   ]
  },
  {
   "cell_type": "markdown",
   "metadata": {},
   "source": [
    "### Cars Above Overall Average Horsepower"
   ]
  },
  {
   "cell_type": "code",
   "execution_count": 324,
   "metadata": {},
   "outputs": [
    {
     "name": "stdout",
     "output_type": "stream",
     "text": [
      "+------------+--------------------+-----------+\n",
      "|company_name|            car_name|horse_power|\n",
      "+------------+--------------------+-----------+\n",
      "|     Bugatti|              Bolide|     1850.0|\n",
      "|     Bugatti|  Chiron Super Sport|     1600.0|\n",
      "|     Bugatti|          Centodieci|     1600.0|\n",
      "|     Bugatti|             Mistral|     1600.0|\n",
      "|     Bugatti|              Chiron|     1500.0|\n",
      "|     Bugatti|    Chiron Pur Sport|     1500.0|\n",
      "|     Bugatti|        Chiron Sport|     1500.0|\n",
      "|     Bugatti|        Chiron Noire|     1500.0|\n",
      "|     Bugatti|                Divo|     1500.0|\n",
      "|     Bugatti|    La Voiture Noire|     1500.0|\n",
      "|ASTON MARTIN|            VALKYRIE|     1160.0|\n",
      "|ASTON MARTIN|            VALHALLA|     1000.0|\n",
      "|     FERRARI|       SF90 STRADALE|      963.0|\n",
      "|ASTON MARTIN|              VICTOR|      836.0|\n",
      "|         GMC|Hummer EV SUV Edi...|      830.0|\n",
      "|         GMC|Hummer EV SUV Ext...|      830.0|\n",
      "|         GMC|Hummer EV Adventu...|      830.0|\n",
      "| LAMBORGHINI|                SIAN|      819.0|\n",
      "|       Tesla|          Cybertruck|      800.0|\n",
      "|     FERRARI|             812 GTS|      789.0|\n",
      "+------------+--------------------+-----------+\n",
      "only showing top 20 rows\n"
     ]
    }
   ],
   "source": [
    "spark.sql(\n",
    "    \"\"\"\n",
    "    select company_name, car_name, horse_power\n",
    "    from car_dataset\n",
    "    where horse_power > (select round(avg(horse_power), 2) as avg_hp\n",
    "                         from car_dataset)\n",
    "    order by horse_power desc\n",
    "    \"\"\"\n",
    ").show()"
   ]
  },
  {
   "cell_type": "code",
   "execution_count": null,
   "metadata": {},
   "outputs": [],
   "source": []
  },
  {
   "cell_type": "markdown",
   "metadata": {},
   "source": [
    "### Acceleration Performance Buckets"
   ]
  },
  {
   "cell_type": "markdown",
   "metadata": {},
   "source": [
    "### Most Common Fuel Type per Company"
   ]
  },
  {
   "cell_type": "code",
   "execution_count": 303,
   "metadata": {},
   "outputs": [
    {
     "name": "stdout",
     "output_type": "stream",
     "text": [
      "+------------+---------------+----------------+\n",
      "|company_name|      fuel_type|count(fuel_type)|\n",
      "+------------+---------------+----------------+\n",
      "|ASTON MARTIN|         Petrol|               9|\n",
      "|ASTON MARTIN|         Hybrid|               2|\n",
      "|        AUDI|         Petrol|              19|\n",
      "|        AUDI|       Electric|               2|\n",
      "|       Acura|         Hybrid|               7|\n",
      "|       Acura|         Petrol|              20|\n",
      "|     BENTLEY|         Petrol|               1|\n",
      "|         BMW|         Hybrid|               1|\n",
      "|         BMW|         Petrol|              30|\n",
      "|         BMW|         Diesel|              10|\n",
      "|     Bugatti|         Petrol|              10|\n",
      "|    Cadillac|         Petrol|              17|\n",
      "|    Cadillac|       Electric|               3|\n",
      "|   Chevrolet|       Electric|               4|\n",
      "|   Chevrolet|         Diesel|               4|\n",
      "|   Chevrolet|         Petrol|              50|\n",
      "|     FERRARI|plug in hyrbrid|               1|\n",
      "|     FERRARI|         Petrol|               8|\n",
      "|        Ford|         Hybrid|               5|\n",
      "|        Ford|  Hybrid/Petrol|               1|\n",
      "+------------+---------------+----------------+\n",
      "only showing top 20 rows\n"
     ]
    }
   ],
   "source": [
    "spark.sql(\n",
    "    \"\"\"\n",
    "    select company_name, fuel_type, count(fuel_type)\n",
    "    from car_dataset\n",
    "    group by company_name, fuel_type\n",
    "    order by company_name\n",
    "    \"\"\"\n",
    ").show()"
   ]
  },
  {
   "cell_type": "code",
   "execution_count": 314,
   "metadata": {},
   "outputs": [
    {
     "name": "stdout",
     "output_type": "stream",
     "text": [
      "+-----------------+---------+---+\n",
      "|     company_name|fuel_type|cnt|\n",
      "+-----------------+---------+---+\n",
      "|     ASTON MARTIN|   Petrol|  9|\n",
      "|             AUDI|   Petrol| 19|\n",
      "|            Acura|   Petrol| 20|\n",
      "|          BENTLEY|   Petrol|  1|\n",
      "|              BMW|   Petrol| 30|\n",
      "|          Bugatti|   Petrol| 10|\n",
      "|         Cadillac|   Petrol| 17|\n",
      "|        Chevrolet|   Petrol| 50|\n",
      "|          FERRARI|   Petrol|  8|\n",
      "|             Ford|   Petrol| 32|\n",
      "|              GMC|   Petrol| 48|\n",
      "|            HONDA|   Petrol|  5|\n",
      "|          HYUNDAI|   Petrol| 11|\n",
      "|Jaguar Land Rover|   Petrol| 34|\n",
      "|             Jeep|   Petrol| 14|\n",
      "|              KIA|   Petrol| 11|\n",
      "|            KIA  |   Petrol|  1|\n",
      "|              Kia|   Petrol| 39|\n",
      "|      LAMBORGHINI|   Petrol| 23|\n",
      "|         MAHINDRA|   Diesel|  2|\n",
      "+-----------------+---------+---+\n",
      "only showing top 20 rows\n"
     ]
    }
   ],
   "source": [
    "most_common = spark.sql(\n",
    "    \"\"\"\n",
    "    select company_name, fuel_type, cnt,\n",
    "        dense_rank() over(partition by company_name order by cnt desc) as rank\n",
    "    from (\n",
    "        select company_name, fuel_type, count(fuel_type) as cnt\n",
    "        from car_dataset\n",
    "        group by company_name, fuel_type\n",
    "    ) t\n",
    "    \"\"\"\n",
    ")\n",
    "\n",
    "most_common.filter(F.col('rank') == 1) \\\n",
    "           .select(['company_name', 'fuel_type', 'cnt']) \\\n",
    "           .show()"
   ]
  },
  {
   "cell_type": "markdown",
   "metadata": {},
   "source": [
    "### Top Speed Leaders by Seat Category"
   ]
  },
  {
   "cell_type": "markdown",
   "metadata": {},
   "source": [
    "### Company Ranking by Avg Horsepower"
   ]
  },
  {
   "cell_type": "code",
   "execution_count": 320,
   "metadata": {},
   "outputs": [
    {
     "name": "stdout",
     "output_type": "stream",
     "text": [
      "+-----------------+------+----+\n",
      "|     company_name|avg_hp|rank|\n",
      "+-----------------+------+----+\n",
      "|          Bugatti|1565.0|   1|\n",
      "|          FERRARI|709.89|   2|\n",
      "|     ASTON MARTIN|701.09|   3|\n",
      "|      LAMBORGHINI|691.54|   4|\n",
      "|     ROLLS ROYCE | 591.0|   5|\n",
      "|      ROLLS ROYCE|583.76|   6|\n",
      "|          BENTLEY| 550.0|   7|\n",
      "|            Tesla|514.71|   8|\n",
      "|          Porsche|463.26|   9|\n",
      "|            Volvo|456.67|  10|\n",
      "|         MERCEDES|432.86|  11|\n",
      "|             AUDI|393.19|  12|\n",
      "|              GMC|377.44|  13|\n",
      "|         Cadillac| 368.4|  14|\n",
      "|Jaguar Land Rover|355.65|  15|\n",
      "|             Jeep|318.89|  16|\n",
      "|           NISSAN| 316.4|  17|\n",
      "|             Ford|314.97|  18|\n",
      "|            Acura|311.04|  19|\n",
      "|        Chevrolet|303.67|  20|\n",
      "+-----------------+------+----+\n",
      "only showing top 20 rows\n"
     ]
    },
    {
     "name": "stderr",
     "output_type": "stream",
     "text": [
      "25/08/26 10:19:07 WARN WindowExec: No Partition Defined for Window operation! Moving all data to a single partition, this can cause serious performance degradation.\n",
      "25/08/26 10:19:07 WARN WindowExec: No Partition Defined for Window operation! Moving all data to a single partition, this can cause serious performance degradation.\n",
      "25/08/26 10:19:07 WARN WindowExec: No Partition Defined for Window operation! Moving all data to a single partition, this can cause serious performance degradation.\n",
      "25/08/26 10:19:07 WARN WindowExec: No Partition Defined for Window operation! Moving all data to a single partition, this can cause serious performance degradation.\n",
      "25/08/26 10:19:07 WARN WindowExec: No Partition Defined for Window operation! Moving all data to a single partition, this can cause serious performance degradation.\n",
      "25/08/26 10:19:07 WARN WindowExec: No Partition Defined for Window operation! Moving all data to a single partition, this can cause serious performance degradation.\n"
     ]
    }
   ],
   "source": [
    "spark.sql(\n",
    "    \"\"\"\n",
    "\n",
    "    select company_name, avg_hp,\n",
    "        dense_rank() over(order by avg_hp desc) as rank\n",
    "    from (\n",
    "            select company_name, round(avg(horse_power), 2) as avg_hp\n",
    "            from car_dataset\n",
    "            group by company_name\n",
    "    ) t\n",
    "    \"\"\"\n",
    ").show()"
   ]
  },
  {
   "cell_type": "code",
   "execution_count": null,
   "metadata": {},
   "outputs": [],
   "source": []
  }
 ],
 "metadata": {
  "kernelspec": {
   "display_name": "kaggle_experiments",
   "language": "python",
   "name": "python3"
  },
  "language_info": {
   "codemirror_mode": {
    "name": "ipython",
    "version": 3
   },
   "file_extension": ".py",
   "mimetype": "text/x-python",
   "name": "python",
   "nbconvert_exporter": "python",
   "pygments_lexer": "ipython3",
   "version": "3.13.7"
  }
 },
 "nbformat": 4,
 "nbformat_minor": 2
}
