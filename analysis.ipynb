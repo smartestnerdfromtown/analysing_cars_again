{
 "cells": [
  {
   "cell_type": "code",
   "execution_count": 19,
   "metadata": {},
   "outputs": [],
   "source": [
    "from pyspark.sql import SparkSession\n",
    "from pyspark.sql import functions as F\n",
    "from pyspark.sql.types import (\n",
    "    StructType,\n",
    "    StructField,\n",
    "    StringType,\n",
    "    IntegerType,\n",
    "    DoubleType,\n",
    ")"
   ]
  },
  {
   "cell_type": "code",
   "execution_count": 20,
   "metadata": {},
   "outputs": [],
   "source": [
    "from pyspark.sql import SparkSession\n",
    "\n",
    "spark = (\n",
    "    SparkSession.builder.appName(\"Car_Analysis\")\n",
    "    .config(\"spark.executor.memory\", \"4g\")\n",
    "    .getOrCreate()\n",
    ")\n",
    "\n",
    "spark.sparkContext.setLogLevel(\"WARN\")\n",
    "# Tip to reader: use WARN for development, ERROR in prod"
   ]
  },
  {
   "cell_type": "code",
   "execution_count": 21,
   "metadata": {},
   "outputs": [],
   "source": [
    "df = spark.read.csv(\n",
    "    path=\"dataset/Cars Datasets 2025.csv\",\n",
    "    header=True,\n",
    "    mode=\"PERMISSIVE\",\n",
    ")"
   ]
  },
  {
   "cell_type": "code",
   "execution_count": 23,
   "metadata": {},
   "outputs": [
    {
     "name": "stdout",
     "output_type": "stream",
     "text": [
      "+-------------+--------------------+-----------+-------------------+----------+-----------+-------------------------+---------------+---------------+-----+------------+\n",
      "|Company Names|          Cars Names|    Engines|CC/Battery Capacity|HorsePower|Total Speed|Performance(0 - 100 )KM/H|    Cars Prices|     Fuel Types|Seats|      Torque|\n",
      "+-------------+--------------------+-----------+-------------------+----------+-----------+-------------------------+---------------+---------------+-----+------------+\n",
      "|      FERRARI|       SF90 STRADALE|         V8|            3990 cc|    963 hp|   340 km/h|                  2.5 sec|    $1,100,000 |plug in hyrbrid|    2|      800 Nm|\n",
      "|  ROLLS ROYCE|             PHANTOM|        V12|            6749 cc|    563 hp|   250 km/h|                  5.3 sec|      $460,000 |         Petrol|    5|      900 Nm|\n",
      "|         Ford|                 KA+|1.2L Petrol|           1,200 cc|  70-85 hp|   165 km/h|                 10.5 sec|$12,000-$15,000|         Petrol|    5|100 - 140 Nm|\n",
      "|     MERCEDES|             GT 63 S|         V8|           3,982 cc|    630 hp|   250 km/h|                  3.2 sec|      $161,000 |         Petrol|    4|      900 Nm|\n",
      "|         AUDI|          AUDI R8 Gt|        V10|           5,204 cc|    602 hp|   320 km/h|                  3.6 sec|      $253,290 |         Petrol|    2|      560 Nm|\n",
      "|          BMW|        Mclaren 720s|         V8|           3,994 cc|    710 hp|   341 km/h|                  2.9 sec|      $499,000 |         Petrol|    2|      770 Nm|\n",
      "| ASTON MARTIN|          VANTAGE F1|         V8|           3,982 cc|    656 hp|   314 km/h|                  3.6 sec|      $193,440 |         Petrol|    2|      685 Nm|\n",
      "|      BENTLEY|Continental GT Azure|         V8|           3,996 cc|    550 hp|   318 km/h|                  4.0 sec|      $311,000 |         Petrol|    4|      900 Nm|\n",
      "|  LAMBORGHINI|     VENENO ROADSTER|        V12|           6,498 cc|    750 hp|   356 km/h|                  2.9 sec|    $4,500,000 |         Petrol|    2|      690 Nm|\n",
      "|      FERRARI|          F8 TRIBUTO|         V8|           3,900 cc|    710 hp|   340 km/h|                  2.9 sec|      $280,000 |         Petrol|    2|      770 Nm|\n",
      "+-------------+--------------------+-----------+-------------------+----------+-----------+-------------------------+---------------+---------------+-----+------------+\n",
      "only showing top 10 rows\n"
     ]
    }
   ],
   "source": [
    "df.show(10)"
   ]
  },
  {
   "cell_type": "markdown",
   "metadata": {},
   "source": [
    "### Data Transformations"
   ]
  },
  {
   "cell_type": "code",
   "execution_count": 33,
   "metadata": {},
   "outputs": [
    {
     "name": "stdout",
     "output_type": "stream",
     "text": [
      "+-------------+-------------+-----------+-------------------+-----------+-----------+-------------------------+---------------+---------------+-----+------------+\n",
      "|Company Names|   Cars Names|    Engines|CC/Battery Capacity|horse_power|Total Speed|Performance(0 - 100 )KM/H|    Cars Prices|      fuel_type|Seats|      Torque|\n",
      "+-------------+-------------+-----------+-------------------+-----------+-----------+-------------------------+---------------+---------------+-----+------------+\n",
      "|      FERRARI|SF90 STRADALE|         V8|            3990 cc|      963.0|   340 km/h|                  2.5 sec|    $1,100,000 |plug in hyrbrid|    2|      800 Nm|\n",
      "|  ROLLS ROYCE|      PHANTOM|        V12|            6749 cc|      563.0|   250 km/h|                  5.3 sec|      $460,000 |         Petrol|    5|      900 Nm|\n",
      "|         Ford|          KA+|1.2L Petrol|           1,200 cc|       77.5|   165 km/h|                 10.5 sec|$12,000-$15,000|         Petrol|    5|100 - 140 Nm|\n",
      "+-------------+-------------+-----------+-------------------+-----------+-----------+-------------------------+---------------+---------------+-----+------------+\n",
      "only showing top 3 rows\n"
     ]
    }
   ],
   "source": [
    "df_clean = (\n",
    "    df.withColumn(\"HorsePower\", F.regexp_replace(\"HorsePower\", r\"\\(.*?\\)\", \"\"))\n",
    "    .withColumn(\"HorsePower\", F.regexp_replace(\"HorsePower\", r\"[^\\d\\-\\./]\", \" \"))\n",
    "    .withColumn(\"HorsePower\", F.trim(F.col(\"HorsePower\")))\n",
    ")\n",
    "\n",
    "df_clean = df_clean.withColumn(\n",
    "    \"HorsePower\",\n",
    "    F.when(\n",
    "        F.col(\"HorsePower\").rlike(r\"^\\d+\\s*-\\s*\\d+$\"),\n",
    "        (\n",
    "            F.split(F.col(\"HorsePower\"), \"-\").getItem(0).cast(\"int\")\n",
    "            + F.split(F.col(\"HorsePower\"), \"-\").getItem(1).cast(\"int\")\n",
    "        )\n",
    "        / 2,\n",
    "    )\n",
    "    .when(\n",
    "        F.col(\"HorsePower\").rlike(r\"^\\d+\\s*/\\s*\\d+$\"),\n",
    "        (\n",
    "            F.split(F.col(\"HorsePower\"), \"/\").getItem(0).cast(\"int\")\n",
    "            + F.split(F.col(\"HorsePower\"), \"/\").getItem(1).cast(\"int\")\n",
    "        )\n",
    "        / 2,\n",
    "    )\n",
    "    .when(\n",
    "        F.col(\"HorsePower\").rlike(r\"^\\d+(\\.\\d+)?$\"), F.col(\"HorsePower\").cast(\"double\")\n",
    "    )\n",
    "    .otherwise(None),\n",
    ")\n",
    "\n",
    "df_clean = df_clean.withColumnRenamed(\"HorsePower\", \"horse_power\").withColumnRenamed(\n",
    "    \"Fuel Types\", \"fuel_type\"\n",
    ")\n",
    "df_clean.show(3)"
   ]
  },
  {
   "cell_type": "markdown",
   "metadata": {},
   "source": [
    "### Everage Horsepower by Fuel Type"
   ]
  },
  {
   "cell_type": "code",
   "execution_count": 40,
   "metadata": {},
   "outputs": [],
   "source": [
    "df_clean = df_clean.na.drop(subset=[\"horse_power\", \"fuel_type\"])"
   ]
  },
  {
   "cell_type": "code",
   "execution_count": 41,
   "metadata": {},
   "outputs": [],
   "source": [
    "df_clean.createOrReplaceTempView(\"car_dataset\")"
   ]
  },
  {
   "cell_type": "code",
   "execution_count": 44,
   "metadata": {},
   "outputs": [
    {
     "name": "stdout",
     "output_type": "stream",
     "text": [
      "+--------------------+------+\n",
      "|           fuel_type|avg_hp|\n",
      "+--------------------+------+\n",
      "|     plug in hyrbrid| 963.0|\n",
      "|     Hybrid (Petrol)| 567.5|\n",
      "|     Petrol (Hybrid)| 400.0|\n",
      "|            Electric|359.38|\n",
      "|              Hybrid|320.09|\n",
      "|              Petrol|311.68|\n",
      "|      Plug-in Hybrid| 265.6|\n",
      "|Hybrid (Gas + Ele...| 240.0|\n",
      "|              Diesel|227.14|\n",
      "|      Petrol, Diesel| 225.5|\n",
      "|       Petrol/Diesel|220.88|\n",
      "|       Hybrid/Petrol| 220.5|\n",
      "|          Petrol/AWD| 213.5|\n",
      "|       Petrol/Hybrid|190.97|\n",
      "|      Petrol, Hybrid| 187.0|\n",
      "|            Hydrogen|154.67|\n",
      "|       Diesel Hybrid| 150.0|\n",
      "|           Petrol/EV| 147.0|\n",
      "|     Hybrid/Electric| 139.0|\n",
      "|       Diesel/Petrol|111.63|\n",
      "|          CNG/Petrol|  86.0|\n",
      "+--------------------+------+\n",
      "\n"
     ]
    }
   ],
   "source": [
    "avg_hs_fuelt_type = spark.sql(\n",
    "    \"\"\"\n",
    "    select fuel_type, round(avg(horse_power), 2) as avg_hp\n",
    "    from car_dataset\n",
    "    group by fuel_type\n",
    "    order by avg_hp desc\n",
    "    \"\"\"\n",
    ")\n",
    "avg_hs_fuelt_type.show(21)"
   ]
  },
  {
   "cell_type": "code",
   "execution_count": null,
   "metadata": {},
   "outputs": [
    {
     "data": {
      "text/plain": [
       "21"
      ]
     },
     "execution_count": 45,
     "metadata": {},
     "output_type": "execute_result"
    }
   ],
   "source": []
  },
  {
   "cell_type": "code",
   "execution_count": null,
   "metadata": {},
   "outputs": [],
   "source": []
  }
 ],
 "metadata": {
  "kernelspec": {
   "display_name": "kaggle_experiments",
   "language": "python",
   "name": "python3"
  },
  "language_info": {
   "codemirror_mode": {
    "name": "ipython",
    "version": 3
   },
   "file_extension": ".py",
   "mimetype": "text/x-python",
   "name": "python",
   "nbconvert_exporter": "python",
   "pygments_lexer": "ipython3",
   "version": "3.13.7"
  }
 },
 "nbformat": 4,
 "nbformat_minor": 2
}
