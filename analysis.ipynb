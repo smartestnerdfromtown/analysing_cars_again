{
 "cells": [
  {
   "cell_type": "code",
   "execution_count": 170,
   "metadata": {},
   "outputs": [],
   "source": [
    "from pyspark.sql import SparkSession\n",
    "from pyspark.sql import functions as F\n",
    "from pyspark.sql.types import (\n",
    "    StructType,\n",
    "    StructField,\n",
    "    StringType,\n",
    "    IntegerType,\n",
    "    DoubleType,\n",
    ")"
   ]
  },
  {
   "cell_type": "code",
   "execution_count": 171,
   "metadata": {},
   "outputs": [],
   "source": [
    "from pyspark.sql import SparkSession\n",
    "\n",
    "spark = (\n",
    "    SparkSession.builder.appName(\"Car_Analysis\")\n",
    "    .config(\"spark.executor.memory\", \"4g\")\n",
    "    .getOrCreate()\n",
    ")\n",
    "\n",
    "spark.sparkContext.setLogLevel(\"WARN\")\n",
    "# Tip to reader: use WARN for development, ERROR in prod"
   ]
  },
  {
   "cell_type": "code",
   "execution_count": 172,
   "metadata": {},
   "outputs": [],
   "source": [
    "df = spark.read.csv(\n",
    "    path=\"dataset/Cars Datasets 2025.csv\",\n",
    "    header=True,\n",
    "    mode=\"PERMISSIVE\",\n",
    ")"
   ]
  },
  {
   "cell_type": "markdown",
   "metadata": {},
   "source": [
    "### Data Transformations"
   ]
  },
  {
   "cell_type": "code",
   "execution_count": 209,
   "metadata": {},
   "outputs": [],
   "source": [
    "df_clean = df.dropna(how=\"any\")"
   ]
  },
  {
   "cell_type": "code",
   "execution_count": 210,
   "metadata": {},
   "outputs": [],
   "source": [
    "df_clean = (\n",
    "    df_clean.withColumnRenamed(\"Company Names\", \"company_name\")\n",
    "    .withColumnRenamed(\"Cars Names\", \"car_name\")\n",
    "    .withColumnRenamed(\"Total Speed\", \"total_speed\")\n",
    "    .withColumnRenamed(\"Performance(0 - 100 )KM/H\", \"performance\")\n",
    "    .withColumnRenamed(\"HorsePower\", \"horse_power\")\n",
    "    .withColumnRenamed(\"Fuel Types\", \"fuel_type\")\n",
    "    .withColumnRenamed(\"Cars Prices\", \"price\")\n",
    ")"
   ]
  },
  {
   "cell_type": "code",
   "execution_count": 211,
   "metadata": {},
   "outputs": [],
   "source": [
    "df_clean = (\n",
    "    df_clean.withColumn(\"horse_power\", F.regexp_replace(\"horse_power\", r\"\\(.*?\\)\", \"\"))\n",
    "    .withColumn(\"horse_power\", F.regexp_replace(\"horse_power\", r\"[^\\d\\-\\./]\", \" \"))\n",
    "    .withColumn(\"horse_power\", F.trim(F.col(\"horse_power\")))\n",
    ")"
   ]
  },
  {
   "cell_type": "code",
   "execution_count": 212,
   "metadata": {},
   "outputs": [],
   "source": [
    "df_clean = df_clean.withColumn(\n",
    "    \"horse_power\",\n",
    "    F.when(\n",
    "        F.col(\"horse_power\").rlike(r\"^\\d+\\s*-\\s*\\d+$\"),\n",
    "        (\n",
    "            F.split(F.col(\"horse_power\"), \"-\").getItem(0).cast(\"int\")\n",
    "            + F.split(F.col(\"horse_power\"), \"-\").getItem(1).cast(\"int\")\n",
    "        )\n",
    "        / 2,\n",
    "    )\n",
    "    .when(\n",
    "        F.col(\"horse_power\").rlike(r\"^\\d+\\s*/\\s*\\d+$\"),\n",
    "        (\n",
    "            F.split(F.col(\"horse_power\"), \"/\").getItem(0).cast(\"int\")\n",
    "            + F.split(F.col(\"horse_power\"), \"/\").getItem(1).cast(\"int\")\n",
    "        )\n",
    "        / 2,\n",
    "    )\n",
    "    .when(\n",
    "        F.col(\"horse_power\").rlike(r\"^\\d+(\\.\\d+)?$\"),\n",
    "        F.col(\"horse_power\").cast(\"double\"),\n",
    "    )\n",
    "    .otherwise(None),\n",
    ")"
   ]
  },
  {
   "cell_type": "code",
   "execution_count": null,
   "metadata": {},
   "outputs": [
    {
     "name": "stdout",
     "output_type": "stream",
     "text": [
      "+------------+-------------+-------+-------------------+-----------+-----------+-----------+-----+---------------+-----+------+\n",
      "|company_name|     car_name|Engines|CC/Battery Capacity|horse_power|total_speed|performance|price|      fuel_type|Seats|Torque|\n",
      "+------------+-------------+-------+-------------------+-----------+-----------+-----------+-----+---------------+-----+------+\n",
      "|     FERRARI|SF90 STRADALE|     V8|            3990 cc|      963.0|   340 km/h|    2.5 sec|1.1E7|plug in hyrbrid|    2|800 Nm|\n",
      "+------------+-------------+-------+-------------------+-----------+-----------+-----------+-----+---------------+-----+------+\n",
      "only showing top 1 row\n"
     ]
    }
   ],
   "source": [
    "df_clean = (\n",
    "    df_clean.withColumn(\"price\", F.regexp_replace(\"price\", r\"[^\\d]\", \"\"))\n",
    "    .withColumn(\"price\", F.trim(F.col(\"price\")))\n",
    "    .withColumn(\"price\", F.when(F.col(\"price\") == \"\", None) # handling \"\" values.\n",
    "                .otherwise(F.col(\"price\").cast(\"double\") # convert all other to double\n",
    "    ))\n",
    ")\n",
    "df_clean.show(1)"
   ]
  },
  {
   "cell_type": "code",
   "execution_count": 214,
   "metadata": {},
   "outputs": [
    {
     "data": {
      "text/plain": [
       "1208"
      ]
     },
     "execution_count": 214,
     "metadata": {},
     "output_type": "execute_result"
    }
   ],
   "source": [
    "df_clean = df_clean.dropna(subset=[\"price\"])\n",
    "df_clean.count()"
   ]
  },
  {
   "cell_type": "code",
   "execution_count": 215,
   "metadata": {},
   "outputs": [],
   "source": [
    "df_clean.createOrReplaceTempView(\"car_dataset\")"
   ]
  },
  {
   "cell_type": "markdown",
   "metadata": {},
   "source": [
    "### Average horse_power by Fuel type"
   ]
  },
  {
   "cell_type": "code",
   "execution_count": 147,
   "metadata": {},
   "outputs": [],
   "source": [
    "avg_hs_fuelt_type = spark.sql(\n",
    "    \"\"\"\n",
    "    select fuel_type, round(avg(horse_power), 2) as avg_hp\n",
    "    from car_dataset\n",
    "    group by fuel_type\n",
    "    order by avg_hp desc\n",
    "    \"\"\"\n",
    ")"
   ]
  },
  {
   "cell_type": "markdown",
   "metadata": {},
   "source": [
    "### Most Powerful Engine per Company"
   ]
  },
  {
   "cell_type": "code",
   "execution_count": 148,
   "metadata": {},
   "outputs": [],
   "source": [
    "most_powerful = spark.sql(\n",
    "    \"\"\"\n",
    "    select * \n",
    "    from (\n",
    "        select company_name, car_name, total_speed, \n",
    "            row_number() over(partition by company_name order by horse_power desc) as rn\n",
    "        from car_dataset\n",
    "    ) t\n",
    "    where rn = 1\n",
    "    \"\"\"\n",
    ")"
   ]
  },
  {
   "cell_type": "markdown",
   "metadata": {},
   "source": [
    "### Fastest Acceleration Ranking - in process"
   ]
  },
  {
   "cell_type": "markdown",
   "metadata": {},
   "source": [
    "### Top 3 Expensive Cars per Company"
   ]
  },
  {
   "cell_type": "code",
   "execution_count": 217,
   "metadata": {},
   "outputs": [
    {
     "name": "stdout",
     "output_type": "stream",
     "text": [
      "+------------+--------------------+---------+----+\n",
      "|company_name|            car_name|    price|rank|\n",
      "+------------+--------------------+---------+----+\n",
      "|ASTON MARTIN|            VALKYRIE|    3.2E7|   1|\n",
      "|ASTON MARTIN|              VICTOR|    1.3E7|   2|\n",
      "|ASTON MARTIN|            VALHALLA|    1.1E7|   3|\n",
      "|ASTON MARTIN|       LAGONDA TARAF|    1.1E7|   3|\n",
      "|        AUDI|          AUDI R8 Gt|2532900.0|   1|\n",
      "|        AUDI|         R8 V10 PLUS|1940000.0|   2|\n",
      "|        AUDI|       RS7 SPORTBACK|1140000.0|   3|\n",
      "|       Acura|          NSX Type S|1570000.0|   1|\n",
      "|       Acura|NSX 3.5L Hybrid C...|1570000.0|   1|\n",
      "|       Acura|  NSX Carbon Edition|1570000.0|   1|\n",
      "|       Acura|NSX GT3 (Track Ve...|1500000.0|   2|\n",
      "|       Acura|     TLX PMC Edition| 620000.0|   3|\n",
      "|     BENTLEY|Continental GT Azure|3110000.0|   1|\n",
      "|         BMW|        Mclaren 720s|4990000.0|   1|\n",
      "|         BMW|         I8 ROADSTER|1650000.0|   2|\n",
      "|         BMW|       M8 GRAN COUPE|1460000.0|   3|\n",
      "|     Bugatti|          Centodieci|    9.0E7|   1|\n",
      "|     Bugatti|                Divo|    5.8E7|   2|\n",
      "|     Bugatti|             Mistral|    5.0E7|   3|\n",
      "|    Cadillac|          Escalade V|1499900.0|   1|\n",
      "+------------+--------------------+---------+----+\n",
      "only showing top 20 rows\n"
     ]
    }
   ],
   "source": [
    "top3_expensive = spark.sql(\n",
    "    \"\"\"\n",
    "    select * \n",
    "    from ( \n",
    "        select company_name, car_name, price, \n",
    "            dense_rank() over(partition by company_name order by price desc) as rank\n",
    "        from car_dataset\n",
    "    ) t\n",
    "    where rank <= 3\n",
    "    \"\"\"\n",
    ")\n",
    "top3_expensive.show()"
   ]
  },
  {
   "cell_type": "code",
   "execution_count": null,
   "metadata": {},
   "outputs": [],
   "source": []
  }
 ],
 "metadata": {
  "kernelspec": {
   "display_name": "kaggle_experiments",
   "language": "python",
   "name": "python3"
  },
  "language_info": {
   "codemirror_mode": {
    "name": "ipython",
    "version": 3
   },
   "file_extension": ".py",
   "mimetype": "text/x-python",
   "name": "python",
   "nbconvert_exporter": "python",
   "pygments_lexer": "ipython3",
   "version": "3.13.7"
  }
 },
 "nbformat": 4,
 "nbformat_minor": 2
}
